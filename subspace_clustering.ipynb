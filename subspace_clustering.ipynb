{
 "cells": [
  {
   "cell_type": "code",
   "execution_count": 1,
   "metadata": {
    "collapsed": false
   },
   "outputs": [],
   "source": [
    "import numpy as np\n",
    "import scipy.cluster\n",
    "import matplotlib.pyplot as plt\n",
    "from mpl_toolkits.mplot3d import Axes3D\n",
    "from sklearn.linear_model import Lasso\n",
    "from sklearn.linear_model import OrthogonalMatchingPursuit \n",
    "from sklearn.cluster import KMeans\n",
    "#%matplotlib inline"
   ]
  },
  {
   "cell_type": "code",
   "execution_count": 2,
   "metadata": {
    "collapsed": false
   },
   "outputs": [],
   "source": [
    "x = np.linspace(-200,200,100);\n",
    "data1 = np.array([[i,0,2*i + np.random.randn(1)*0.] for i in x])\n",
    "data1 = np.random.permutation(data1)\n",
    "x = np.linspace(-200,200,100);\n",
    "data2 = np.array([[i,-2*i,-2*i + np.random.randn(1)*0.] for i in x])\n",
    "data2= np.random.permutation(data2)\n",
    "#data3 = np.array([[i,-8*i,5*i] for i in x])\n",
    "#data1 = np.hstack([np.zeros([200,1]), 400 * np.random.randn(200,2)])\n",
    "#data2 = np.hstack([ 400*np.random.randn(200,1), np.zeros([200,1])])\n",
    "#data2 = np.hstack([ data2, 400*np.random.randn(200,1)])\n",
    "data3 = 400*np.random.randn(100,2);\n",
    "data3 = np.hstack([data3,np.zeros([100,1])])"
   ]
  },
  {
   "cell_type": "code",
   "execution_count": 5,
   "metadata": {
    "collapsed": false
   },
   "outputs": [],
   "source": [
    "data=np.vstack([data1,data2,data3])\n",
    "a = (np.sum(data**2, 1))**0.5\n",
    "a = a.reshape(a.shape[0], 1)\n",
    "a=np.repeat(a,3,1);\n",
    "data_norm = data / (a+0.0001)\n",
    "#data_norm = data\n",
    "#data = data_norm"
   ]
  },
  {
   "cell_type": "code",
   "execution_count": 6,
   "metadata": {
    "collapsed": false
   },
   "outputs": [],
   "source": [
    "fig=plt.figure()\n",
    "ax = fig.add_subplot(111, projection='3d')\n",
    "ax.scatter(data[:,0],data[:,1],data[:,2])\n",
    "plt.show()"
   ]
  },
  {
   "cell_type": "code",
   "execution_count": 9,
   "metadata": {
    "collapsed": false
   },
   "outputs": [],
   "source": [
    "clf=Lasso(alpha=0.01, normalize=False, max_iter= 5000)\n",
    "clf.fit(data_norm.transpose(), data_norm.transpose());\n",
    "coef = np.abs(clf.coef_)"
   ]
  },
  {
   "cell_type": "code",
   "execution_count": null,
   "metadata": {
    "collapsed": false
   },
   "outputs": [],
   "source": [
    "dd = data_norm.transpose();\n",
    "clf=Lasso(alpha=0.01, normalize=False, max_iter= 1000)\n",
    "clf.fit(dd,dd[:,0]);\n",
    "coef = np.abs(clf.coef_)\n",
    "print coef.argmax()\n",
    "plt.plot(coef)\n",
    "plt.show()"
   ]
  },
  {
   "cell_type": "code",
   "execution_count": null,
   "metadata": {
    "collapsed": false
   },
   "outputs": [],
   "source": [
    "print data_norm[250,:]\n",
    "print data_norm[48,:]\n",
    "print data_norm[95,:]\n",
    "print coef[10,:].argmax()"
   ]
  },
  {
   "cell_type": "code",
   "execution_count": 11,
   "metadata": {
    "collapsed": false,
    "scrolled": true
   },
   "outputs": [],
   "source": [
    "W = coef + coef.transpose();\n",
    "w,v = np.linalg.eig(W);\n",
    "v = np.abs(v)\n",
    "#a,ig=scipy.cluster.vq.kmeans(v[:,:],3)\n",
    "#id,ig=scipy.cluster.vq.vq(v[:,:],a)\n",
    "kms = KMeans(6);\n",
    "a=kms.fit_predict(v[:,:3])\n",
    "\n",
    "fig=plt.figure()\n",
    "color=['r','g','b','y'];\n",
    "c_id = 0;\n",
    "ax = fig.add_subplot(111, projection='3d')\n",
    "for i in range(0,10):\n",
    "    if sum(a==i) < 10:\n",
    "        continue\n",
    "    \n",
    "    c_data = data[a==i,:3];\n",
    "    \n",
    "    ax.scatter(c_data[:,0],c_data[:,1],c_data[:,2],c=color[c_id])\n",
    "    c_id = c_id +1\n",
    "plt.show()\n",
    "fig.savefig('sc.png')\n"
   ]
  },
  {
   "cell_type": "code",
   "execution_count": null,
   "metadata": {
    "collapsed": false
   },
   "outputs": [],
   "source": [
    "plt.imshow(W)\n",
    "plt.show()"
   ]
  },
  {
   "cell_type": "code",
   "execution_count": null,
   "metadata": {
    "collapsed": false
   },
   "outputs": [],
   "source": [
    "kms = KMeans(3);\n",
    "a=kms.fit_predict(data)\n",
    "\n",
    "fig=plt.figure()\n",
    "color=['r','g','b','y'];\n",
    "c_id = 0;\n",
    "ax = fig.add_subplot(111, projection='3d')\n",
    "for i in range(0,3):\n",
    "    if sum(a==i) < 10:\n",
    "        continue\n",
    "    \n",
    "    c_data = data[a==i,:3];\n",
    "    \n",
    "    ax.scatter(c_data[:,0],c_data[:,1],c_data[:,2],c=color[c_id])\n",
    "    c_id = c_id +1\n",
    "plt.show()"
   ]
  },
  {
   "cell_type": "code",
   "execution_count": null,
   "metadata": {
    "collapsed": true
   },
   "outputs": [],
   "source": []
  }
 ],
 "metadata": {
  "kernelspec": {
   "display_name": "Python 2",
   "language": "python",
   "name": "python2"
  },
  "language_info": {
   "codemirror_mode": {
    "name": "ipython",
    "version": 2
   },
   "file_extension": ".py",
   "mimetype": "text/x-python",
   "name": "python",
   "nbconvert_exporter": "python",
   "pygments_lexer": "ipython2",
   "version": "2.7.11"
  }
 },
 "nbformat": 4,
 "nbformat_minor": 0
}
