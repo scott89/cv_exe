{
 "cells": [
  {
   "cell_type": "code",
   "execution_count": 8,
   "metadata": {
    "collapsed": false
   },
   "outputs": [],
   "source": [
    "import numpy as np\n",
    "import scipy.cluster\n",
    "import matplotlib.pyplot as plt\n",
    "from mpl_toolkits.mplot3d import Axes3D\n",
    "from sklearn.linear_model import Lasso\n",
    "from sklearn.linear_model import OrthogonalMatchingPursuit \n",
    "from sklearn.cluster import KMeans\n",
    "#%matplotlib inline"
   ]
  },
  {
   "cell_type": "code",
   "execution_count": 9,
   "metadata": {
    "collapsed": false
   },
   "outputs": [],
   "source": [
    "x = np.linspace(-200,200,100);\n",
    "data1 = np.array([[i,0,2*i] for i in x])\n",
    "x = np.linspace(-200,200,100);\n",
    "data2 = np.array([[i,-2*i,-2*i] for i in x])\n",
    "#data3 = np.array([[i,-8*i,5*i] for i in x])\n",
    "data3 = 400*np.random.randn(100,2);\n",
    "data3 = np.hstack([data3,np.zeros([100,1])])"
   ]
  },
  {
   "cell_type": "code",
   "execution_count": 10,
   "metadata": {
    "collapsed": false
   },
   "outputs": [],
   "source": [
    "data=np.vstack([data1,data2,data3])\n",
    "a = np.sum(data**2, 1)**0.5\n",
    "a = a.reshape(a.shape[0], 1)\n",
    "a=np.repeat(a,3,1);\n",
    "data_norm = data / a"
   ]
  },
  {
   "cell_type": "code",
   "execution_count": 11,
   "metadata": {
    "collapsed": false
   },
   "outputs": [],
   "source": [
    "fig=plt.figure()\n",
    "ax = fig.add_subplot(111, projection='3d')\n",
    "ax.scatter(data[:,0],data[:,1],data[:,2])\n",
    "plt.show()"
   ]
  },
  {
   "cell_type": "code",
   "execution_count": 12,
   "metadata": {
    "collapsed": false
   },
   "outputs": [],
   "source": [
    "clf=Lasso(alpha=0.05, normalize=True, max_iter= 1000)\n",
    "clf.fit(data_norm.transpose(), data_norm.transpose());\n",
    "coef = np.abs(clf.coef_)"
   ]
  },
  {
   "cell_type": "code",
   "execution_count": 21,
   "metadata": {
    "collapsed": false,
    "scrolled": true
   },
   "outputs": [],
   "source": [
    "W = coef + coef.transpose();\n",
    "w,v = np.linalg.eig(W);\n",
    "v = np.abs(v)\n",
    "#a,ig=scipy.cluster.vq.kmeans(v[:,:],3)\n",
    "#id,ig=scipy.cluster.vq.vq(v[:,:],a)\n",
    "kms = KMeans(6);\n",
    "a=kms.fit_predict(v[:,:3])\n",
    "\n",
    "fig=plt.figure()\n",
    "color=['r','g','b','y'];\n",
    "c_id = 0;\n",
    "ax = fig.add_subplot(111, projection='3d')\n",
    "for i in range(0,10):\n",
    "    if sum(a==i) < 10:\n",
    "        continue\n",
    "    \n",
    "    c_data = data[a==i,:3];\n",
    "    \n",
    "    ax.scatter(c_data[:,0],c_data[:,1],c_data[:,2],c=color[c_id])\n",
    "    c_id = c_id +1\n",
    "plt.show()\n",
    "fig.savefig('sc.png')\n"
   ]
  },
  {
   "cell_type": "code",
   "execution_count": 14,
   "metadata": {
    "collapsed": false
   },
   "outputs": [],
   "source": [
    "kms = KMeans(3);\n",
    "a=kms.fit_predict(data)\n",
    "\n",
    "fig=plt.figure()\n",
    "color=['r','g','b','y'];\n",
    "c_id = 0;\n",
    "ax = fig.add_subplot(111, projection='3d')\n",
    "for i in range(0,3):\n",
    "    if sum(a==i) < 10:\n",
    "        continue\n",
    "    \n",
    "    c_data = data[a==i,:3];\n",
    "    \n",
    "    ax.scatter(c_data[:,0],c_data[:,1],c_data[:,2],c=color[c_id])\n",
    "    c_id = c_id +1\n",
    "plt.show()"
   ]
  }
 ],
 "metadata": {
  "kernelspec": {
   "display_name": "Python 2",
   "language": "python",
   "name": "python2"
  },
  "language_info": {
   "codemirror_mode": {
    "name": "ipython",
    "version": 2
   },
   "file_extension": ".py",
   "mimetype": "text/x-python",
   "name": "python",
   "nbconvert_exporter": "python",
   "pygments_lexer": "ipython2",
   "version": "2.7.11"
  }
 },
 "nbformat": 4,
 "nbformat_minor": 0
}
