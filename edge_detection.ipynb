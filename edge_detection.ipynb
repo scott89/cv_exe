{
 "cells": [
  {
   "cell_type": "code",
   "execution_count": 1,
   "metadata": {
    "collapsed": false
   },
   "outputs": [],
   "source": [
    "import numpy as np\n",
    "import scipy\n",
    "import scipy.misc\n",
    "import  PyCV as f\n",
    "import matplotlib.pyplot as plt\n",
    "import scipy.ndimage\n",
    "#%matplotlib inline"
   ]
  },
  {
   "cell_type": "code",
   "execution_count": 2,
   "metadata": {
    "collapsed": false
   },
   "outputs": [],
   "source": [
    "im = scipy.misc.lena();\n",
    "im = np.double(im) / 255;\n",
    "mf = np.ones([2,2],dtype=np.double)/4\n",
    "im = f.Filt(im, mf, 0)\n",
    "im = im[:,:,0]"
   ]
  },
  {
   "cell_type": "code",
   "execution_count": 3,
   "metadata": {
    "collapsed": false
   },
   "outputs": [],
   "source": [
    "k1 = np.array([[1,0,-1],[2,0,-2],[1,0,-1]],dtype=np.double)\n",
    "k2 = np.array([[1,2,1],[0,0,0],[-1,-2,-1]],dtype=np.double)\n",
    "k3 = np.array([[2,1,0],[1,0,-1],[0,-1,-2]],dtype=np.double)\n",
    "k4 = (np.fliplr(k3)).copy();"
   ]
  },
  {
   "cell_type": "code",
   "execution_count": 4,
   "metadata": {
    "collapsed": false
   },
   "outputs": [],
   "source": [
    "ed1 = f.Filt(im, k1, 0)\n",
    "ed2 = f.Filt(im, k2, 0)\n",
    "ed3 = f.Filt(im, k3, 0)\n",
    "ed4 = f.Filt(im, k4, 0)\n",
    "ed = (ed1**2 + ed2**2 + ed3**2 + ed4**2)**0.5\n",
    "fig = plt.figure()\n",
    "fig.set_size_inches([3,3]);\n",
    "#fig.add_subplot(1,2,1)\n",
    "ax1 = plt.axes([0,0,1.8,1.8]);\n",
    "ax1.set_axis_off()\n",
    "fig.add_axes(ax1);\n",
    "plt.imshow(im, cmap='gray',aspect='auto')\n",
    "plt.title('Input image')\n",
    "#fig.add_subplot(1,2,2)\n",
    "ax2 = plt.axes([2.2,0,1.8,1.8]);\n",
    "ax2.set_axis_off()\n",
    "fig.add_axes(ax2);\n",
    "plt.imshow(ed[:,:,0],cmap='gray',aspect='auto');\n",
    "plt.title('Edge Maps by Sobel detector')\n",
    "plt.show()"
   ]
  },
  {
   "cell_type": "code",
   "execution_count": 20,
   "metadata": {
    "collapsed": false
   },
   "outputs": [],
   "source": [
    "\n",
    "plt.imsave('input.png', im, cmap = 'gray')\n",
    "plt.imsave('edge.png', ed[:,:,0], cmap = 'gray')"
   ]
  },
  {
   "cell_type": "code",
   "execution_count": 5,
   "metadata": {
    "collapsed": false
   },
   "outputs": [],
   "source": [
    "ed_max = f.FiltMax(ed, [2,2],0);\n",
    "ed_max_sup = np.double(ed > ed_max - 0.5) * np.double(ed < ed_max + 0.5) * ed"
   ]
  },
  {
   "cell_type": "code",
   "execution_count": 6,
   "metadata": {
    "collapsed": false
   },
   "outputs": [],
   "source": [
    "fig2=plt.figure()\n",
    "fig2.set_size_inches([3,3]);\n",
    "#fig2.add_subplot(1,3,1)\n",
    "ax1 = plt.axes([0,0,1.5,1.5]);\n",
    "ax1.set_axis_off()\n",
    "fig2.add_axes(ax1);\n",
    "plt.imshow(ed[:,:,0],cmap='gray');\n",
    "plt.title('Edge map by Sobel')\n",
    "#fig2.add_subplot(1,3,2)\n",
    "ax2 = plt.axes([1.8,0,1.5,1.5]);\n",
    "ax2.set_axis_off()\n",
    "fig2.add_axes(ax2);\n",
    "plt.imshow(ed_max[:,:,0],cmap='gray');\n",
    "plt.title('Max map')\n",
    "#fig2.add_subplot(1,3,3)\n",
    "ax3 = plt.axes([3.6,0,1.5,1.5]);\n",
    "ax3.set_axis_off()\n",
    "fig2.add_axes(ax3);\n",
    "plt.imshow(ed_max_sup[:,:,0],cmap='gray');\n",
    "plt.title('Edge map after non-maximun suppression')\n",
    "plt.show()\n"
   ]
  },
  {
   "cell_type": "code",
   "execution_count": null,
   "metadata": {
    "collapsed": true
   },
   "outputs": [],
   "source": []
  }
 ],
 "metadata": {
  "kernelspec": {
   "display_name": "Python 2",
   "language": "python",
   "name": "python2"
  },
  "language_info": {
   "codemirror_mode": {
    "name": "ipython",
    "version": 2
   },
   "file_extension": ".py",
   "mimetype": "text/x-python",
   "name": "python",
   "nbconvert_exporter": "python",
   "pygments_lexer": "ipython2",
   "version": "2.7.11"
  }
 },
 "nbformat": 4,
 "nbformat_minor": 0
}
