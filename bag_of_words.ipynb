{
 "cells": [
  {
   "cell_type": "code",
   "execution_count": 1,
   "metadata": {
    "collapsed": false
   },
   "outputs": [],
   "source": [
    "import numpy as np\n",
    "import scipy\n",
    "import scipy.cluster\n",
    "import matplotlib.pyplot as plt\n",
    "%matplotlib inline\n",
    "import sift\n",
    "import os"
   ]
  },
  {
   "cell_type": "code",
   "execution_count": 2,
   "metadata": {
    "collapsed": false,
    "scrolled": true
   },
   "outputs": [
    {
     "name": "stdout",
     "output_type": "stream",
     "text": [
      "processing: 1\n",
      "processing: 2\n",
      "processing: 3\n",
      "processing: 4\n",
      "processing: 5\n",
      "processing: 6\n",
      "processing: 7\n",
      "processing: 8\n",
      "processing: 9\n",
      "processing: 10\n",
      "processing: 11\n",
      "processing: 12\n",
      "processing: 13\n",
      "processing: 14\n",
      "processing: 15\n",
      "processing: 16\n",
      "processing: 17\n",
      "processing: 18\n",
      "processing: 19\n",
      "processing: 20\n",
      "processing: 21\n",
      "processing: 22\n",
      "processing: 23\n",
      "processing: 24\n",
      "processing: 25\n",
      "processing: 26\n",
      "processing: 27\n",
      "processing: 28\n",
      "processing: 29\n",
      "processing: 30\n",
      "processing: 31\n",
      "processing: 32\n",
      "processing: 33\n",
      "processing: 34\n",
      "processing: 35\n",
      "processing: 36\n",
      "processing: 37\n",
      "processing: 38\n",
      "processing: 39\n",
      "processing: 40\n",
      "processing: 41\n",
      "processing: 42\n",
      "processing: 43\n",
      "processing: 44\n",
      "processing: 45\n",
      "processing: 46\n",
      "processing: 47\n",
      "processing: 48\n",
      "processing: 49\n",
      "processing: 50\n",
      "processing: 51\n",
      "processing: 52\n",
      "processing: 53\n",
      "processing: 54\n",
      "processing: 55\n",
      "processing: 56\n",
      "processing: 57\n",
      "processing: 58\n",
      "processing: 59\n",
      "processing: 60\n",
      "processing: 61\n",
      "processing: 62\n",
      "processing: 63\n",
      "processing: 64\n",
      "processing: 65\n",
      "processing: 66\n",
      "processing: 67\n",
      "processing: 68\n",
      "processing: 69\n",
      "processing: 70\n",
      "processing: 71\n",
      "processing: 72\n",
      "processing: 73\n",
      "processing: 74\n",
      "processing: 75\n",
      "processing: 76\n",
      "processing: 77\n",
      "processing: 78\n",
      "processing: 79\n",
      "processing: 80\n",
      "processing: 81\n",
      "processing: 82\n",
      "processing: 83\n",
      "processing: 84\n",
      "processing: 85\n",
      "processing: 86\n",
      "processing: 87\n",
      "processing: 88\n",
      "processing: 89\n",
      "processing: 90\n",
      "processing: 91\n",
      "processing: 92\n",
      "processing: 93\n",
      "processing: 94\n",
      "processing: 95\n",
      "processing: 96\n",
      "processing: 97\n",
      "processing: 98\n",
      "processing: 99\n",
      "processing: 100\n",
      "processing: 101\n",
      "processing: 102\n",
      "processing: 103\n",
      "processing: 104\n",
      "processing: 105\n",
      "processing: 106\n",
      "processing: 107\n",
      "processing: 108\n",
      "processing: 109\n",
      "processing: 110\n",
      "processing: 111\n",
      "processing: 112\n",
      "processing: 113\n",
      "processing: 114\n",
      "processing: 115\n",
      "processing: 116\n",
      "processing: 117\n",
      "processing: 118\n",
      "processing: 119\n",
      "processing: 120\n",
      "processing: 121\n",
      "processing: 122\n",
      "processing: 123\n",
      "processing: 124\n",
      "processing: 125\n",
      "processing: 126\n",
      "processing: 127\n",
      "processing: 128\n",
      "processing: 129\n",
      "processing: 130\n",
      "processing: 131\n",
      "processing: 132\n",
      "processing: 133\n",
      "processing: 134\n",
      "processing: 135\n",
      "processing: 136\n",
      "processing: 137\n",
      "processing: 138\n",
      "processing: 139\n",
      "processing: 140\n",
      "processing: 141\n",
      "processing: 142\n",
      "processing: 143\n",
      "processing: 144\n",
      "processing: 145\n",
      "processing: 146\n",
      "processing: 147\n",
      "processing: 148\n",
      "processing: 149\n",
      "processing: 150\n",
      "processing: 151\n",
      "processing: 152\n",
      "processing: 153\n",
      "processing: 154\n",
      "processing: 155\n",
      "processing: 156\n",
      "processing: 157\n",
      "processing: 158\n",
      "processing: 159\n",
      "processing: 160\n",
      "processing: 161\n",
      "processing: 162\n",
      "processing: 163\n",
      "processing: 164\n",
      "processing: 165\n",
      "processing: 166\n",
      "processing: 167\n",
      "processing: 168\n",
      "processing: 169\n",
      "processing: 170\n",
      "processing: 171\n",
      "processing: 172\n",
      "processing: 173\n",
      "processing: 174\n",
      "processing: 175\n",
      "processing: 176\n",
      "processing: 177\n",
      "processing: 178\n",
      "processing: 179\n",
      "processing: 180\n",
      "processing: 181\n",
      "processing: 182\n",
      "processing: 183\n",
      "processing: 184\n",
      "processing: 185\n",
      "processing: 186\n",
      "processing: 187\n",
      "processing: 188\n",
      "processing: 189\n",
      "processing: 190\n",
      "processing: 191\n",
      "processing: 192\n",
      "processing: 193\n",
      "processing: 194\n",
      "processing: 195\n",
      "processing: 196\n",
      "processing: 197\n",
      "processing: 198\n",
      "processing: 199\n",
      "processing: 200\n"
     ]
    }
   ],
   "source": [
    "im_path = './data/BSDS300/images/train/';\n",
    "files = os.listdir(im_path);\n",
    "hist = np.zeros([1,128]);\n",
    "num_images = len(files)\n",
    "count = 0;\n",
    "# read images and extract sift features\n",
    "for im_name in files:\n",
    "    count = count +1;\n",
    "    im = plt.imread(im_path+im_name)\n",
    "#    im = rgb2gray(im);\n",
    "    sift_feat = sift.extract_sift(im);\n",
    "    hist = np.vstack([hist, sift_feat]);\n",
    "    print \"processing: %d\"%count "
   ]
  },
  {
   "cell_type": "code",
   "execution_count": 4,
   "metadata": {
    "collapsed": false
   },
   "outputs": [],
   "source": [
    "#　construct codebook\n",
    "codebook,ignore=scipy.cluster.vq.kmeans(hist[1::20],200)"
   ]
  },
  {
   "cell_type": "code",
   "execution_count": 8,
   "metadata": {
    "collapsed": false
   },
   "outputs": [
    {
     "data": {
      "image/png": "[encoded data removed]",
      "text/plain": [
       "<matplotlib.figure.Figure at 0x7ff502fccf50>"
      ]
     },
     "metadata": {},
     "output_type": "display_data"
    }
   ],
   "source": [
    "# extract bag-of-word features for a given image\n",
    "im = plt.imread(im_path+files[128]);\n",
    "sift_feat = sift.extract_sift(im);\n",
    "member, dist=scipy.cluster.vq.vq(sift_feat, codebook)\n",
    "bag_of_words=plt.hist(member,np.arange(0,196))"
   ]
  },
  {
   "cell_type": "code",
   "execution_count": 21,
   "metadata": {
    "collapsed": false
   },
   "outputs": [
    {
     "data": {
      "image/png": "[encoded data removed]",
      "text/plain": [
       "<matplotlib.figure.Figure at 0x7ff5025b7610>"
      ]
     },
     "metadata": {},
     "output_type": "display_data"
    }
   ],
   "source": [
    "fig=plt.figure();\n",
    "fig.set_size_inches([4,3])\n",
    "im = plt.imread(im_path+files[128]);\n",
    "sift_feat = sift.extract_sift(im);\n",
    "member, dist=scipy.cluster.vq.vq(sift_feat, codebook)\n",
    "bag_of_words=plt.hist(member,np.arange(0,196))\n",
    "fig.savefig('bw.png',dpi=300)\n",
    "plt.imsave( 'input.png',im)"
   ]
  },
  {
   "cell_type": "code",
   "execution_count": 14,
   "metadata": {
    "collapsed": false
   },
   "outputs": [],
   "source": [
    "plt.imsave('im.png',im)"
   ]
  },
  {
   "cell_type": "code",
   "execution_count": null,
   "metadata": {
    "collapsed": true
   },
   "outputs": [],
   "source": []
  }
 ],
 "metadata": {
  "kernelspec": {
   "display_name": "Python 2",
   "language": "python",
   "name": "python2"
  },
  "language_info": {
   "codemirror_mode": {
    "name": "ipython",
    "version": 2
   },
   "file_extension": ".py",
   "mimetype": "text/x-python",
   "name": "python",
   "nbconvert_exporter": "python",
   "pygments_lexer": "ipython2",
   "version": "2.7.11"
  }
 },
 "nbformat": 4,
 "nbformat_minor": 0
}
